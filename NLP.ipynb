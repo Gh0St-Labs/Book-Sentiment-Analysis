{
 "cells": [
  {
   "cell_type": "code",
   "execution_count": 4,
   "id": "31d3f535-1aa3-448d-8473-6096275f6c27",
   "metadata": {},
   "outputs": [],
   "source": [
    "with open(\"miracle_in_the_andes.txt\",\"r\", encoding='utf-8') as file:\n",
    "    the_book = file.read()"
   ]
  },
  {
   "cell_type": "code",
   "execution_count": 5,
   "id": "b60e6807-2580-4cb1-b50b-94c385e79a30",
   "metadata": {},
   "outputs": [],
   "source": [
    "import re\n",
    "pattern = re.compile(\"[a-zA-Z]+\")\n",
    "findings = re.findall(pattern, the_book.lower())"
   ]
  },
  {
   "cell_type": "code",
   "execution_count": 6,
   "id": "27a300f8-a9b8-4990-8e19-ae3c1492ff6f",
   "metadata": {},
   "outputs": [],
   "source": [
    "d= {}\n",
    "for word in findings:\n",
    "    if word in d.keys():\n",
    "        d[word] = d[word] + 1\n",
    "    else:\n",
    "        d[word] = 1"
   ]
  },
  {
   "cell_type": "code",
   "execution_count": 7,
   "id": "113bdffd-d470-4dc5-a6e0-2729198772fd",
   "metadata": {},
   "outputs": [],
   "source": [
    "d_list = [(value - 1, name) for (name, value) in d.items()]\n",
    "d_list = sorted(d_list, reverse=True)"
   ]
  },
  {
   "cell_type": "code",
   "execution_count": 9,
   "id": "a7a1c2df-e280-425b-b81b-ea3e7edc14b6",
   "metadata": {},
   "outputs": [
    {
     "data": {
      "text/plain": [
       "'3.9.13'"
      ]
     },
     "execution_count": 9,
     "metadata": {},
     "output_type": "execute_result"
    }
   ],
   "source": [
    "from platform import python_version\n",
    "python_version()"
   ]
  },
  {
   "cell_type": "code",
   "execution_count": 9,
   "id": "21fa51fa-b04e-4235-baa5-aaab66ee01aa",
   "metadata": {},
   "outputs": [
    {
     "name": "stdout",
     "output_type": "stream",
     "text": [
      "Requirement already satisfied: nltk in c:\\users\\admin\\anaconda3\\lib\\site-packages (3.7)\n",
      "Requirement already satisfied: click in c:\\users\\admin\\anaconda3\\lib\\site-packages (from nltk) (8.0.4)\n",
      "Requirement already satisfied: regex>=2021.8.3 in c:\\users\\admin\\anaconda3\\lib\\site-packages (from nltk) (2022.7.9)\n",
      "Requirement already satisfied: tqdm in c:\\users\\admin\\anaconda3\\lib\\site-packages (from nltk) (4.64.1)\n",
      "Requirement already satisfied: joblib in c:\\users\\admin\\anaconda3\\lib\\site-packages (from nltk) (1.1.0)\n",
      "Requirement already satisfied: colorama in c:\\users\\admin\\anaconda3\\lib\\site-packages (from click->nltk) (0.4.5)\n",
      "showing info https://raw.githubusercontent.com/nltk/nltk_data/gh-pages/index.xml\n"
     ]
    }
   ],
   "source": [
    "!pip install nltk\n",
    "import nltk\n",
    "nltk.download()\n",
    "from nltk.corpus import stopwords"
   ]
  },
  {
   "cell_type": "code",
   "execution_count": 10,
   "id": "f89abc72-ee9b-4f8c-adfd-07eeb616e718",
   "metadata": {},
   "outputs": [],
   "source": [
    "english_stopwords = stopwords.words(\"english\")"
   ]
  },
  {
   "cell_type": "code",
   "execution_count": 17,
   "id": "d827a577-3bd8-4f26-a203-8dc25c1385d1",
   "metadata": {},
   "outputs": [],
   "source": [
    "with open(\"miracle_in_the_andes.txt\",\"r\", encoding='utf-8') as file:\n",
    "    the_book = file.read()\n",
    "import re\n",
    "pattern = re.compile(\"[a-zA-Z]+\")\n",
    "findings = re.findall(pattern, the_book.lower())\n",
    "d= {}\n",
    "for word in findings:\n",
    "    if word in d.keys():\n",
    "        d[word] = d[word] + 1\n",
    "    else:\n",
    "        d[word] = 1\n",
    "d_list = [(value - 1, name) for (name, value) in d.items()]\n",
    "d_list = sorted(d_list, reverse=True)\n",
    "filtered_words = []\n",
    "for count, word in d_list:\n",
    "    if word not in english_stopwords:\n",
    "        new_words = (count, word)\n",
    "        filtered_words.append(new_words)"
   ]
  },
  {
   "cell_type": "code",
   "execution_count": 19,
   "id": "67ecadf2-4bae-40a9-8857-a1c68d991f1b",
   "metadata": {},
   "outputs": [
    {
     "data": {
      "text/plain": [
       "[(574, 'would'),\n",
       " (518, 'us'),\n",
       " (291, 'said'),\n",
       " (283, 'roberto'),\n",
       " (251, 'could'),\n",
       " (248, 'one'),\n",
       " (226, 'snow'),\n",
       " (182, 'mountain'),\n",
       " (181, 'time'),\n",
       " (164, 'like')]"
      ]
     },
     "execution_count": 19,
     "metadata": {},
     "output_type": "execute_result"
    }
   ],
   "source": [
    "filtered_words[:10]"
   ]
  },
  {
   "cell_type": "markdown",
   "id": "9667ad9f-2722-4cbb-8bab-80f45fbc6881",
   "metadata": {},
   "source": [
    "# Sentiment Analysis >> Analysing between positve and negative chapters"
   ]
  },
  {
   "cell_type": "code",
   "execution_count": 23,
   "id": "9ef2cced-9313-498e-a4ac-bfe77e967a4f",
   "metadata": {},
   "outputs": [],
   "source": [
    "from nltk.sentiment import SentimentIntensityAnalyzer "
   ]
  },
  {
   "cell_type": "code",
   "execution_count": 27,
   "id": "4adf9b80-43af-4542-b743-a10f63d49dd9",
   "metadata": {},
   "outputs": [],
   "source": [
    "analyzer = SentimentIntensityAnalyzer()"
   ]
  },
  {
   "cell_type": "code",
   "execution_count": 28,
   "id": "d5a7ed3e-a4cd-416d-bccd-338a83b6fdab",
   "metadata": {},
   "outputs": [
    {
     "data": {
      "text/plain": [
       "<nltk.sentiment.vader.SentimentIntensityAnalyzer at 0x1ec8d3c5cd0>"
      ]
     },
     "execution_count": 28,
     "metadata": {},
     "output_type": "execute_result"
    }
   ],
   "source": [
    "analyzer"
   ]
  },
  {
   "cell_type": "code",
   "execution_count": 35,
   "id": "e0cde945-49e2-47bf-ab02-a2dbc434d5e4",
   "metadata": {},
   "outputs": [
    {
     "data": {
      "text/plain": [
       "{'neg': 0.0, 'neu': 0.631, 'pos': 0.369, 'compound': 0.6885}"
      ]
     },
     "execution_count": 35,
     "metadata": {},
     "output_type": "execute_result"
    }
   ],
   "source": [
    "scores = analyzer.polarity_scores(\"Hey Look at the Trees! They are absolutely charming!\")"
   ]
  },
  {
   "cell_type": "code",
   "execution_count": 38,
   "id": "4770ca4f-1c27-41c3-ba15-618bf1ef56cc",
   "metadata": {},
   "outputs": [
    {
     "data": {
      "text/plain": [
       "{'neg': 0.116, 'neu': 0.76, 'pos': 0.125, 'compound': 1.0}"
      ]
     },
     "execution_count": 38,
     "metadata": {},
     "output_type": "execute_result"
    }
   ],
   "source": [
    "with open(\"miracle_in_the_andes.txt\",\"r\", encoding='utf-8') as file:\n",
    "    the_book = file.read()\n",
    "analyzer.polarity_scores(the_book)"
   ]
  },
  {
   "cell_type": "code",
   "execution_count": 40,
   "id": "7ce27b8e-6db3-445b-b423-78384c50afb6",
   "metadata": {},
   "outputs": [],
   "source": [
    "import re\n",
    "pattern = re.compile(\"Chapter [0-9]\")\n",
    "chapters = re.split(pattern, the_book)"
   ]
  },
  {
   "cell_type": "code",
   "execution_count": 43,
   "id": "5c2325a5-a802-4ffe-b84a-12cfe1f11c6e",
   "metadata": {},
   "outputs": [],
   "source": [
    "chapters = chapters[1:]"
   ]
  },
  {
   "cell_type": "code",
   "execution_count": 5,
   "id": "07f5197c-79f7-4bda-ae1f-0fed48267619",
   "metadata": {
    "tags": []
   },
   "outputs": [
    {
     "name": "stdout",
     "output_type": "stream",
     "text": [
      "1 {'neg': 0.061, 'neu': 0.779, 'pos': 0.16, 'compound': 1.0}\n",
      "2 {'neg': 0.12, 'neu': 0.726, 'pos': 0.154, 'compound': 0.9991}\n",
      "3 {'neg': 0.145, 'neu': 0.751, 'pos': 0.105, 'compound': -0.9999}\n",
      "4 {'neg': 0.141, 'neu': 0.721, 'pos': 0.138, 'compound': -0.9963}\n",
      "5 {'neg': 0.118, 'neu': 0.742, 'pos': 0.141, 'compound': 0.9997}\n",
      "6 {'neg': 0.124, 'neu': 0.761, 'pos': 0.115, 'compound': -0.9979}\n",
      "7 {'neg': 0.136, 'neu': 0.761, 'pos': 0.103, 'compound': -0.9999}\n",
      "8 {'neg': 0.12, 'neu': 0.786, 'pos': 0.094, 'compound': -0.9998}\n",
      "9 {'neg': 0.097, 'neu': 0.824, 'pos': 0.079, 'compound': -0.9996}\n",
      "10 {'neg': 0.086, 'neu': 0.733, 'pos': 0.181, 'compound': 1.0}\n"
     ]
    }
   ],
   "source": [
    "import re\n",
    "with open(\"miracle_in_the_andes.txt\",\"r\", encoding='utf-8') as file:\n",
    "    the_book = file.read()\n",
    "pattern = re.compile(\"Chapter [0-9]\")\n",
    "chapters = re.split(pattern, the_book)\n",
    "chapters = chapters[1:]\n",
    "from nltk.sentiment import SentimentIntensityAnalyzer \n",
    "analyzer = SentimentIntensityAnalyzer()\n",
    "scores = analyzer.polarity_scores(\"Hey Look at the Trees! They are absolutely charming!\")\n",
    "for no, chapter in enumerate(chapters):\n",
    "    scores = analyzer.polarity_scores(chapter)\n",
    "    print(no + 1, scores)"
   ]
  },
  {
   "cell_type": "code",
   "execution_count": null,
   "id": "f3950b9c-7bf3-421d-b38a-33d849dfdc6e",
   "metadata": {},
   "outputs": [],
   "source": []
  }
 ],
 "metadata": {
  "kernelspec": {
   "display_name": "Python 3 (ipykernel)",
   "language": "python",
   "name": "python3"
  },
  "language_info": {
   "codemirror_mode": {
    "name": "ipython",
    "version": 3
   },
   "file_extension": ".py",
   "mimetype": "text/x-python",
   "name": "python",
   "nbconvert_exporter": "python",
   "pygments_lexer": "ipython3",
   "version": "3.9.13"
  }
 },
 "nbformat": 4,
 "nbformat_minor": 5
}
